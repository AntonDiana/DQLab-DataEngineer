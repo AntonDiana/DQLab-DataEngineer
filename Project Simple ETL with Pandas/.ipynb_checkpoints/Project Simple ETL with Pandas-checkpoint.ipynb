{
 "cells": [
  {
   "cell_type": "markdown",
   "id": "0cedfc97",
   "metadata": {},
   "source": [
    "# Pengantar\n",
    "Di masa pandemi seperti ini, kompetisi coding seperti Competitive Programming maupun Hackathon banyak diselenggarakan karena sangat memungkinkan untuk dilakukan secara online.\n",
    "\n",
    "Hackathon merupakan kompetisi membuat perangkat lunak (software) yang dilaksanakan secara marathon yang biasanya diikuti secara tim. Umumnya, peserta hackathon diminta untuk mengembangkan platform (mobile, web, desktop, dll.) dalam kurun waktu tertentu untuk menyelesaikan permasalahan yang sudah ditetapkan/didefinisikan oleh penyelenggara ataupun berdasarkan tema yang dipilih oleh tim tersebut.\n",
    "\n",
    "Untuk bisa mengikuti hackathon dari suatu instansi, calon peserta diwajibkan untuk mendaftarkan diri mereka pada situs/form tertentu dengan memasukkan beberapa informasi yang diminta oleh penyelenggara tersebut.\n",
    "\n",
    " \n",
    "\n",
    "Extract, Transform dan Load (ETL) merupakan kumpulan proses untuk \"memindahkan\" data dari satu tempat ke tempat lain.\n",
    "Tempat yang dimaksud adalah dari sumber data (bisa berupa database aplikasi, file, logs, database dari 3rd party, dan lainnya) ke data warehouse.\n",
    "\n",
    "Apa itu data warehouse?\n",
    "\n",
    "Singkatnya, data warehouse merupakan database yang berisi data-data (tabel-tabel) yang sudah siap untuk dilakukan analisis oleh Data Analyst maupun Data Scientist.\n",
    "\n",
    "Lebih lengkapnya bisa dilihat di:\n",
    "https://en.wikipedia.org/wiki/Data_warehouse.\n",
    "\n",
    "Pada modul ini kita akan mempelajari masing-masing dari proses tersebut."
   ]
  },
  {
   "cell_type": "markdown",
   "id": "cb472f1d",
   "metadata": {},
   "source": [
    "# Project yang Akan Dikerjakan\n",
    "Pada proyek kali ini, Anda diminta untuk mengolah data pendaftar hackathon yang diselenggarakan oleh DQLab bernama DQThon.\n",
    "\n",
    "Dataset ini terdiri dari 5000 baris data (5000 pendaftar) dengan format CSV (Comma-separated values) dan memiliki beberapa kolom diantaranya:\n",
    "\n",
    "participant_id: ID dari peserta/partisipan hackathon. Kolom ini bersifat unique sehingga antar peserta pasti memiliki ID yang berbeda\n",
    "first_name: nama depan peserta \n",
    "\n",
    "last_name: nama belakang peserta \n",
    "\n",
    "birth_date: tanggal lahir peserta \n",
    "\n",
    "address: alamat tempat tinggal peserta \n",
    "\n",
    "phone_number: nomor hp/telepon peserta \n",
    "\n",
    "country: negara asal peserta \n",
    "\n",
    "institute: institusi peserta saat ini, bisa berupa nama perusahaan maupun nama universitas\n",
    "\n",
    "occupation: pekerjaan peserta saat ini \n",
    "\n",
    "register_time: waktu peserta melakukan pendaftaran hackathon dalam second\n",
    " \n",
    "\n",
    "Namun pada proyek ini nantinya Anda diminta untuk menghasilkan beberapa kolom dengan memanfaatkan kolom-kolom yang ada, sehingga akhir dari proyek ini berupa hasil transformasi data dengan beberapa kolom baru selain dari 10 kolom diatas."
   ]
  },
  {
   "cell_type": "markdown",
   "id": "0d507ee7",
   "metadata": {},
   "source": [
    "# Extract\n",
    "Extract merupakan proses meng-ekstraksi data dari sumber, sumber data ini bisa berupa relational data (SQL) atau tabel, nonrelational (NoSQL) maupun yang lainnya.\n",
    "\n",
    "Tugas Anda adalah baca terlebih dahulu dataset ini sebagai CSV agar nantinya bisa diolah. Gunakan live code editor untuk menampilkan dataset.\n",
    "\n",
    "File tersebut bisa diakses melalui URL: https://storage.googleapis.com/dqlab-dataset/dqthon-participants.csv.\n",
    "\n",
    "JAWABAN\n"
   ]
  },
  {
   "cell_type": "code",
   "execution_count": 14,
   "id": "734b3764",
   "metadata": {},
   "outputs": [],
   "source": [
    "import pandas as pd\n",
    "\n",
    "df_participant = pd.read_csv('https://storage.googleapis.com/dqlab-dataset/dqthon-participants.csv')"
   ]
  },
  {
   "cell_type": "markdown",
   "id": "c446a6cc",
   "metadata": {},
   "source": [
    "# Transform\n",
    "Transform merupakan proses melakukan transformasi data, atau perubahan terhadap data. Umumnya seperti:\n",
    "\n",
    "1. Merubah nilai dari suatu kolom ke nilai baru,\n",
    "2. Menciptakan kolom baru dengan memanfaatkan kolom lain,\n",
    "3. Transpose baris menjadi kolom (atau sebaliknya),\n",
    "4. Mengubah format data ke bentuk yang lebih standard (contohnya, kolom date, maupun datetime yang biasanya memiliki nilai yang tidak standard maupun nomor HP yang biasanya memiliki nilai yang tidak sesuai format standardnya), dan lainnya. "
   ]
  },
  {
   "cell_type": "markdown",
   "id": "731754b5",
   "metadata": {},
   "source": [
    "# Transform Bagian I - Kode Pos\n",
    "Ada permintaan datang dari tim logistik bahwa mereka membutuhkan kode pos dari peserta agar pengiriman piala lebih mudah dan cepat sampai. Maka dari itu buatlah kolom baru bernama postal_code yang memuat informasi mengenai kode pos yang diambil dari alamat peserta (kolom address).\n",
    "\n",
    "Diketahui bahwa kode pos berada di paling akhir dari alamat tersebut.\n",
    "\n",
    "Note:\n",
    "Jika regex yang dimasukkan tidak bisa menangkap pattern dari value kolom address maka akan menghasilkan NaN.\n",
    "\n",
    "JAWABAN"
   ]
  },
  {
   "cell_type": "code",
   "execution_count": 15,
   "id": "8a883bf1",
   "metadata": {},
   "outputs": [],
   "source": [
    "import pandas as pd\n",
    "\n",
    "df_participant = pd.read_csv('https://storage.googleapis.com/dqlab-dataset/dqthon-participants.csv')\n",
    "\n",
    "df_participant['postal_code']=df_participant['address'].str.extract(r'(\\d+)$')"
   ]
  },
  {
   "cell_type": "markdown",
   "id": "ee237cf3",
   "metadata": {},
   "source": [
    "# Transform Bagian II - Kota\n",
    "Selain kode pos, mereka juga membutuhkan kota dari peserta.\n",
    "\n",
    "Untuk menyediakan informasi tersebut, buatlah kolom baru bernama city yang didapat dari kolom address. Diasumsikan bahwa kota merupakan sekumpulan karakter yang terdapat setelah nomor jalan diikuti dengan \\n (newline character) atau dalam bahasa lainnya yaitu enter.\n",
    "\n",
    "JAWABAN\n"
   ]
  },
  {
   "cell_type": "code",
   "execution_count": 16,
   "id": "c4ad52fe",
   "metadata": {},
   "outputs": [],
   "source": [
    "import pandas as pd\n",
    "\n",
    "df_participant = pd.read_csv('https://storage.googleapis.com/dqlab-dataset/dqthon-participants.csv')\n",
    "\n",
    "df_participant['postal_code'] = df_participant['address'].str.extract(r'(\\d+)$')\n",
    "\n",
    "df_participant['city'] = df_participant['address'].str.extract(r'(?<=\\n)(\\w+)(?=,)')"
   ]
  },
  {
   "cell_type": "markdown",
   "id": "fc13b7dc",
   "metadata": {},
   "source": [
    "# Transform Bagian III - Github\n",
    "Salah satu parameter untuk mengetahui proyek apa saja yang pernah dikerjakan oleh peserta yaitu dari git repository mereka.\n",
    "\n",
    "Pada kasus ini kita menggunakan profil github sebagai parameternya. Tugas Anda yaitu membuat kolom baru bernama github_profile yang merupakan link profil github dari peserta.\n",
    "\n",
    "Diketahui bahwa profil github mereka merupakan gabungan dari first_name dan last_name yang sudah di-lowercase. \n",
    "\n",
    "JAWABAN\n"
   ]
  },
  {
   "cell_type": "code",
   "execution_count": 17,
   "id": "e147800b",
   "metadata": {},
   "outputs": [],
   "source": [
    "import pandas as pd\n",
    "\n",
    "df_participant = pd.read_csv('https://storage.googleapis.com/dqlab-dataset/dqthon-participants.csv')\n",
    "\n",
    "df_participant['postal_code'] = df_participant['address'].str.extract(r'(\\d+)$')\n",
    "\n",
    "df_participant['city'] = df_participant['address'].str.extract(r'(?<=\\n)(\\w.+)(?=,)')\n",
    "\n",
    "df_participant['github_profile'] = 'https://github.com/' + df_participant['first_name'].str.lower() + df_participant['last_name'].str.lower()"
   ]
  },
  {
   "cell_type": "markdown",
   "id": "b95126a7",
   "metadata": {},
   "source": [
    "# Transform Bagian IV - Nomor Handphone\n",
    "Jika kita lihat kembali, ternyata nomor handphone yang ada pada data csv kita memiliki format yang berbeda-beda. Maka dari itu, kita perlu untuk melakukan cleansing pada data nomor handphone agar memiliki format yang sama. Anda sebagai Data Engineer diberi privilege untuk menentukan format nomor handphone yang benar. Pada kasus ini mari kita samakan formatnya dengan aturan:\n",
    "\n",
    "1. Jika awalan nomor HP berupa angka 62 atau +62 yang merupakan kode telepon Indonesia, maka diterjemahkan ke 0.\n",
    "2. Tidak ada tanda baca seperti kurung buka, kurung tutup, strip⟶ ()-\n",
    "3. Tidak ada spasi pada nomor HP nama kolom untuk menyimpan hasil cleansing pada nomor HP yaitu cleaned_phone_number\n",
    "\n",
    "JAWABAN"
   ]
  },
  {
   "cell_type": "code",
   "execution_count": 18,
   "id": "a5c58d40",
   "metadata": {},
   "outputs": [
    {
     "name": "stderr",
     "output_type": "stream",
     "text": [
      "C:\\Users\\Anton\\AppData\\Local\\Temp\\ipykernel_10444\\1696064007.py:12: FutureWarning: The default value of regex will change from True to False in a future version.\n",
      "  df_participant['cleaned_phone_number'] = df_participant['phone_number'].str.replace(r'^(\\+62|62)', '0')\n",
      "C:\\Users\\Anton\\AppData\\Local\\Temp\\ipykernel_10444\\1696064007.py:14: FutureWarning: The default value of regex will change from True to False in a future version.\n",
      "  df_participant['cleaned_phone_number'] = df_participant['cleaned_phone_number'].str.replace(r'[()-]', '')\n",
      "C:\\Users\\Anton\\AppData\\Local\\Temp\\ipykernel_10444\\1696064007.py:16: FutureWarning: The default value of regex will change from True to False in a future version.\n",
      "  df_participant['cleaned_phone_number'] = df_participant['cleaned_phone_number'].str.replace(r'\\s+', '')\n"
     ]
    }
   ],
   "source": [
    "import pandas as pd\n",
    "\n",
    "df_participant = pd.read_csv('https://storage.googleapis.com/dqlab-dataset/dqthon-participants.csv')\n",
    "\n",
    "df_participant['postal_code'] = df_participant['address'].str.extract(r'(\\d+)$')\n",
    "\n",
    "df_participant['city'] = df_participant['address'].str.extract(r'(?<=\\n)(\\w.+)(?=,)') \n",
    "\n",
    "df_participant['github_profile'] = 'https://github.com/' + df_participant['first_name'].str.lower() + df_participant['last_name'].str.lower()\n",
    "\n",
    "#Masukkan regex anda pada parameter pertama dari fungsi replace\n",
    "df_participant['cleaned_phone_number'] = df_participant['phone_number'].str.replace(r'^(\\+62|62)', '0')\n",
    "\n",
    "df_participant['cleaned_phone_number'] = df_participant['cleaned_phone_number'].str.replace(r'[()-]', '')\n",
    "\n",
    "df_participant['cleaned_phone_number'] = df_participant['cleaned_phone_number'].str.replace(r'\\s+', '')"
   ]
  },
  {
   "cell_type": "markdown",
   "id": "d39f7d8a",
   "metadata": {},
   "source": [
    "# Transform Bagian V - Nama Tim\n",
    "Dataset saat ini belum memuat nama tim, dan rupanya dari tim Data Analyst membutuhkan informasi terkait nama tim dari masing-masing peserta.\n",
    "\n",
    "Diketahui bahwa nama tim merupakan gabungan nilai dari kolom first_name, last_name, country dan institute.\n",
    "\n",
    "Tugas Anda yakni buatlah kolom baru dengan nama team_name yang memuat informasi nama tim dari peserta.\n",
    "\n",
    "JAWABAN"
   ]
  },
  {
   "cell_type": "code",
   "execution_count": 19,
   "id": "820b8514",
   "metadata": {},
   "outputs": [
    {
     "name": "stderr",
     "output_type": "stream",
     "text": [
      "C:\\Users\\Anton\\AppData\\Local\\Temp\\ipykernel_10444\\2658554754.py:11: FutureWarning: The default value of regex will change from True to False in a future version.\n",
      "  df_participant['cleaned_phone_number'] = df_participant['phone_number'].str.replace(r'^(\\+62|62)', '0')\n",
      "C:\\Users\\Anton\\AppData\\Local\\Temp\\ipykernel_10444\\2658554754.py:13: FutureWarning: The default value of regex will change from True to False in a future version.\n",
      "  df_participant['cleaned_phone_number'] = df_participant['cleaned_phone_number'].str.replace(r'[()-]', '')\n",
      "C:\\Users\\Anton\\AppData\\Local\\Temp\\ipykernel_10444\\2658554754.py:15: FutureWarning: The default value of regex will change from True to False in a future version.\n",
      "  df_participant['cleaned_phone_number'] = df_participant['cleaned_phone_number'].str.replace(r'\\s+', '')\n"
     ]
    }
   ],
   "source": [
    "import pandas as pd\n",
    "\n",
    "df_participant = pd.read_csv('https://storage.googleapis.com/dqlab-dataset/dqthon-participants.csv')\n",
    "\n",
    "df_participant['postal_code'] = df_participant['address'].str.extract(r'(\\d+)$')\n",
    "\n",
    "df_participant['city'] = df_participant['address'].str.extract(r'(?<=\\n)(\\w.+)(?=,)') \n",
    "\n",
    "df_participant['github_profile'] = 'https://github.com/' + df_participant['first_name'].str.lower() + df_participant['last_name'].str.lower()\n",
    "\n",
    "df_participant['cleaned_phone_number'] = df_participant['phone_number'].str.replace(r'^(\\+62|62)', '0')\n",
    "\n",
    "df_participant['cleaned_phone_number'] = df_participant['cleaned_phone_number'].str.replace(r'[()-]', '')\n",
    "\n",
    "df_participant['cleaned_phone_number'] = df_participant['cleaned_phone_number'].str.replace(r'\\s+', '')\n",
    "\n",
    "def func(col):\n",
    "    abbrev_name = \"%s%s\"%(col['first_name'][0],col['last_name'][0]) #Singkatan dari Nama Depan dan Nama Belakang dengan mengambil huruf pertama\n",
    "    country = col['country']\n",
    "    abbrev_institute = '%s'%(''.join(list(map(lambda word: word[0], col['institute'].split())))) #Singkatan dari value di kolom institute\n",
    "    return \"%s-%s-%s\"%(abbrev_name,country,abbrev_institute)\n",
    "\n",
    "df_participant['team_name'] = df_participant.apply(func, axis=1)"
   ]
  },
  {
   "cell_type": "markdown",
   "id": "12bc7202",
   "metadata": {},
   "source": [
    "# Transform Bagian VI - Email\n",
    "Setelah dilihat kembali dari data peserta yang dimiliki, ternyata ada satu informasi yang penting namun belum tersedia, yaitu email.\n",
    "\n",
    "Anda sebagai Data Engineer diminta untuk menyediakan informasi email dari peserta dengan aturan bahwa format email sebagai berikut:\n",
    "\n",
    "Format email:\n",
    "xxyy@aa.bb.[ac/com].[cc]\n",
    "\n",
    "Keterangan:\n",
    "xx -> nama depan (first_name) dalam lowercase\n",
    "yy -> nama belakang (last_name) dalam lowercase\n",
    "aa -> nama institusi\n",
    "\n",
    "Untuk nilai bb, dan cc mengikuti nilai dari aa. Aturannya:\n",
    "- Jika institusi nya merupakan Universitas, maka\n",
    "  bb -> gabungan dari huruf pertama pada setiap kata dari nama Universitas dalam lowercase\n",
    "  Kemudian, diikuti dengan .ac yang menandakan akademi/institusi belajar dan diikuti dengan pattern cc\n",
    "- Jika institusi bukan merupakan Universitas, maka\n",
    "  bb -> gabungan dari huruf pertama pada setiap kata dari nama Universitas dalam lowercase\n",
    "  Kemudian, diikuti dengan .com. Perlu diketahui bahwa pattern cc tidak berlaku pada kondisi ini\n",
    "\n",
    "cc -> merupakan negara asal peserta, adapun aturannya:\n",
    "- Jika banyaknya kata pada negara tersebut lebih dari 1 maka ambil singkatan dari negara tersebut dalam lowercase\n",
    "- Namun, jika banyaknya kata hanya 1 maka ambil 3 huruf terdepan dari negara tersebut dalam lowercase\n",
    "\n",
    "Contoh:\n",
    "  Nama depan: Citra\n",
    "  \n",
    "  Nama belakang: Nurdiyanti\n",
    "  \n",
    "  Institusi: UD Prakasa Mandasari\n",
    "  \n",
    "  Negara: Georgia\n",
    "  \n",
    "  Maka,Email nya: citranurdiyanti@upm.geo\n",
    "  \n",
    "  Nama depan: Aris\n",
    "  Nama belakang: Setiawan\n",
    "  Institusi: Universitas Diponegoro\n",
    "  Negara: Korea Utara\n",
    "  Maka, Email nya: arissetiawan@ud.ac.ku\n",
    "  \n",
    "  \n",
    "JAWABAN"
   ]
  },
  {
   "cell_type": "code",
   "execution_count": 20,
   "id": "e44897dc",
   "metadata": {},
   "outputs": [
    {
     "name": "stderr",
     "output_type": "stream",
     "text": [
      "C:\\Users\\Anton\\AppData\\Local\\Temp\\ipykernel_10444\\3370493378.py:6: FutureWarning: The default value of regex will change from True to False in a future version.\n",
      "  df_participant['cleaned_phone_number'] = df_participant['phone_number'].str.replace(r'^(\\+62|62)', '0')\n",
      "C:\\Users\\Anton\\AppData\\Local\\Temp\\ipykernel_10444\\3370493378.py:7: FutureWarning: The default value of regex will change from True to False in a future version.\n",
      "  df_participant['cleaned_phone_number'] = df_participant['cleaned_phone_number'].str.replace(r'[()-]', '')\n",
      "C:\\Users\\Anton\\AppData\\Local\\Temp\\ipykernel_10444\\3370493378.py:8: FutureWarning: The default value of regex will change from True to False in a future version.\n",
      "  df_participant['cleaned_phone_number'] = df_participant['cleaned_phone_number'].str.replace(r'\\s+', '')\n"
     ]
    }
   ],
   "source": [
    "import pandas as pd\n",
    "df_participant = pd.read_csv('https://storage.googleapis.com/dqlab-dataset/dqthon-participants.csv')\n",
    "df_participant['postal_code'] = df_participant['address'].str.extract(r'(\\d+)$')\n",
    "df_participant['city'] = df_participant['address'].str.extract(r'(?<=\\n)(\\w.+)(?=,)') \n",
    "df_participant['github_profile'] = 'https://github.com/' + df_participant['first_name'].str.lower() + df_participant['last_name'].str.lower()\n",
    "df_participant['cleaned_phone_number'] = df_participant['phone_number'].str.replace(r'^(\\+62|62)', '0')\n",
    "df_participant['cleaned_phone_number'] = df_participant['cleaned_phone_number'].str.replace(r'[()-]', '')\n",
    "df_participant['cleaned_phone_number'] = df_participant['cleaned_phone_number'].str.replace(r'\\s+', '')\n",
    "\n",
    "def func(col):\n",
    "    abbrev_name = \"%s%s\"%(col['first_name'][0],col['last_name'][0])\n",
    "    country = col['country']\n",
    "    abbrev_institute = '%s'%(''.join(list(map(lambda word: word[0], col['institute'].split()))))\n",
    "    return \"%s-%s-%s\"%(abbrev_name,country,abbrev_institute)\n",
    "df_participant['team_name'] = df_participant.apply(func, axis=1)\n",
    "\n",
    "def func(col):\n",
    "    first_name_lower = col['first_name'].lower()\n",
    "    last_name_lower = col['last_name'].lower()\n",
    "    institute = ''.join(list(map(lambda word: word[0], col['institute'].lower().split()))) #Singkatan dari nama perusahaan dalam lowercase\n",
    "\n",
    "    if 'Universitas' in col['institute']:\n",
    "        if len(col['country'].split()) > 1: #Kondisi untuk mengecek apakah jumlah kata dari country lebih dari 1\n",
    "            country = ''.join(list(map(lambda word: word[0], col['country'].lower().split())))\n",
    "        else:\n",
    "            country = col['country'][:3].lower()\n",
    "        return \"%s%s@%s.ac.%s\"%(first_name_lower,last_name_lower,institute,country)\n",
    "\n",
    "    return \"%s%s@%s.com\"%(first_name_lower,last_name_lower,institute)\n",
    "\n",
    "df_participant['email'] = df_participant.apply(func, axis=1)"
   ]
  },
  {
   "cell_type": "markdown",
   "id": "a6426ee3",
   "metadata": {},
   "source": [
    "# Transform Bagian VII - Tanggal Lahir\n",
    "MySQL merupakan salah satu database yang sangat populer dan digunakan untuk menyimpan data berupa tabel, termasuk data hasil pengolahan yang sudah kita lakukan ini nantinya bisa dimasukkan ke MySQL.\n",
    "\n",
    "Meskipun begitu, ada suatu aturan dari MySQL terkait format tanggal yang bisa mereka terima yaitu YYYY-MM-DD dengan keterangan:\n",
    "\n",
    "YYYY: 4 digit yang menandakan tahun\n",
    "\n",
    "MM: 2 digit yang menandakan bulan\n",
    "\n",
    "DD: 2 digit yang menandakan tanggal\n",
    "\n",
    "Contohnya yaitu: 2021-04-07\n",
    "\n",
    "Jika kita lihat kembali pada kolom tanggal lahir terlihat bahwa nilainya belum sesuai dengan format DATE dari MySQL\n",
    "\n",
    "Oleh karena itu, lakukanlah formatting terhadap kolom birth_date menjadi YYYY-MM-DD dan simpan di kolom yang sama.\n",
    "\n",
    "JAWABAN"
   ]
  },
  {
   "cell_type": "code",
   "execution_count": 21,
   "id": "68f15f99",
   "metadata": {},
   "outputs": [
    {
     "name": "stderr",
     "output_type": "stream",
     "text": [
      "C:\\Users\\Anton\\AppData\\Local\\Temp\\ipykernel_10444\\1525606542.py:6: FutureWarning: The default value of regex will change from True to False in a future version.\n",
      "  df_participant['cleaned_phone_number'] = df_participant['phone_number'].str.replace(r'^(\\+62|62)', '0')\n",
      "C:\\Users\\Anton\\AppData\\Local\\Temp\\ipykernel_10444\\1525606542.py:7: FutureWarning: The default value of regex will change from True to False in a future version.\n",
      "  df_participant['cleaned_phone_number'] = df_participant['cleaned_phone_number'].str.replace(r'[()-]', '')\n",
      "C:\\Users\\Anton\\AppData\\Local\\Temp\\ipykernel_10444\\1525606542.py:8: FutureWarning: The default value of regex will change from True to False in a future version.\n",
      "  df_participant['cleaned_phone_number'] = df_participant['cleaned_phone_number'].str.replace(r'\\s+', '')\n"
     ]
    }
   ],
   "source": [
    "import pandas as pd\n",
    "df_participant = pd.read_csv('https://storage.googleapis.com/dqlab-dataset/dqthon-participants.csv')\n",
    "df_participant['postal_code'] = df_participant['address'].str.extract(r'(\\d+)$')\n",
    "df_participant['city'] = df_participant['address'].str.extract(r'(?<=\\n)(\\w.+)(?=,)') \n",
    "df_participant['github_profile'] = 'https://github.com/' + df_participant['first_name'].str.lower() + df_participant['last_name'].str.lower()\n",
    "df_participant['cleaned_phone_number'] = df_participant['phone_number'].str.replace(r'^(\\+62|62)', '0')\n",
    "df_participant['cleaned_phone_number'] = df_participant['cleaned_phone_number'].str.replace(r'[()-]', '')\n",
    "df_participant['cleaned_phone_number'] = df_participant['cleaned_phone_number'].str.replace(r'\\s+', '')\n",
    "\n",
    "def func(col):\n",
    "    abbrev_name = \"%s%s\"%(col['first_name'][0],col['last_name'][0])\n",
    "    country = col['country']\n",
    "    abbrev_institute = '%s'%(''.join(list(map(lambda word: word[0], col['institute'].split()))))\n",
    "    return \"%s-%s-%s\"%(abbrev_name,country,abbrev_institute)\n",
    "df_participant['team_name'] = df_participant.apply(func, axis=1)\n",
    "\n",
    "def func(col):\n",
    "    first_name_lower = col['first_name'].lower()\n",
    "    last_name_lower = col['last_name'].lower()\n",
    "    institute = ''.join(list(map(lambda word: word[0], col['institute'].lower().split())))\n",
    "    \n",
    "    if 'Universitas' in col['institute']:\n",
    "        if len(col['country'].split()) > 1:\n",
    "            country = ''.join(list(map(lambda word: word[0], col['country'].lower().split())))\n",
    "        else:\n",
    "            country = col['country'][:3].lower()\n",
    "        return \"%s%s@%s.ac.%s\"%(first_name_lower,last_name_lower,institute,country)\n",
    "        \n",
    "    return \"%s%s@%s.com\"%(first_name_lower,last_name_lower,institute)\n",
    "    \n",
    "df_participant['email'] = df_participant.apply(func, axis=1)\n",
    "\n",
    "\n",
    "df_participant['birth_date'] = pd.to_datetime(df_participant['birth_date'], format='%d %b %Y')"
   ]
  },
  {
   "cell_type": "markdown",
   "id": "ee6d4dc5",
   "metadata": {},
   "source": [
    "# Transform Bagian VII - Tanggal Daftar Kompetisi\n",
    "Selain punya aturan mengenai format DATE, MySQL juga memberi aturan pada data yang bertipe DATETIME yaitu YYYY-MM-DD HH:mm:ss dengan keterangan:\n",
    "\n",
    "YYYY: 4 digit yang menandakan tahun\n",
    "\n",
    "MM: 2 digit yang menandakan bulan\n",
    "\n",
    "DD: 2 digit yang menandakan tanggal\n",
    "\n",
    "HH: 2 digit yang menandakan jam\n",
    "\n",
    "mm: 2 digit yang menandakan menit\n",
    "\n",
    "ss: 2 digit yang menandakan detik\n",
    "\n",
    "Contohnya yaitu: 2021-04-07 15:10:55\n",
    "\n",
    "Karena data kita mengenai waktu registrasi peserta (register_time) belum sesuai format yang seharusnya.\n",
    "\n",
    "Maka dari itu, tugas Anda yaitu untuk merubah register_time ke format DATETIME sesuai dengan aturan dari MySQL.\n",
    "\n",
    "Simpanlah hasil tersebut ke kolom register_at.\n",
    "\n",
    "JAWABAN"
   ]
  },
  {
   "cell_type": "code",
   "execution_count": 22,
   "id": "cda242a7",
   "metadata": {},
   "outputs": [
    {
     "name": "stderr",
     "output_type": "stream",
     "text": [
      "C:\\Users\\Anton\\AppData\\Local\\Temp\\ipykernel_10444\\2319830581.py:6: FutureWarning: The default value of regex will change from True to False in a future version.\n",
      "  df_participant['cleaned_phone_number'] = df_participant['phone_number'].str.replace(r'^(\\+62|62)', '0')\n",
      "C:\\Users\\Anton\\AppData\\Local\\Temp\\ipykernel_10444\\2319830581.py:7: FutureWarning: The default value of regex will change from True to False in a future version.\n",
      "  df_participant['cleaned_phone_number'] = df_participant['cleaned_phone_number'].str.replace(r'[()-]', '')\n",
      "C:\\Users\\Anton\\AppData\\Local\\Temp\\ipykernel_10444\\2319830581.py:8: FutureWarning: The default value of regex will change from True to False in a future version.\n",
      "  df_participant['cleaned_phone_number'] = df_participant['cleaned_phone_number'].str.replace(r'\\s+', '')\n"
     ]
    }
   ],
   "source": [
    "import pandas as pd\n",
    "df_participant = pd.read_csv('https://storage.googleapis.com/dqlab-dataset/dqthon-participants.csv')\n",
    "df_participant['postal_code'] = df_participant['address'].str.extract(r'(\\d+)$')\n",
    "df_participant['city'] = df_participant['address'].str.extract(r'(?<=\\n)(\\w.+)(?=,)') \n",
    "df_participant['github_profile'] = 'https://github.com/' + df_participant['first_name'].str.lower() + df_participant['last_name'].str.lower()\n",
    "df_participant['cleaned_phone_number'] = df_participant['phone_number'].str.replace(r'^(\\+62|62)', '0')\n",
    "df_participant['cleaned_phone_number'] = df_participant['cleaned_phone_number'].str.replace(r'[()-]', '')\n",
    "df_participant['cleaned_phone_number'] = df_participant['cleaned_phone_number'].str.replace(r'\\s+', '')\n",
    "\n",
    "def func(col):\n",
    "    abbrev_name = \"%s%s\"%(col['first_name'][0],col['last_name'][0])\n",
    "    country = col['country']\n",
    "    abbrev_institute = '%s'%(''.join(list(map(lambda word: word[0], col['institute'].split()))))\n",
    "    return \"%s-%s-%s\"%(abbrev_name,country,abbrev_institute)\n",
    "df_participant['team_name'] = df_participant.apply(func, axis=1)\n",
    "\n",
    "def func(col):\n",
    "    first_name_lower = col['first_name'].lower()\n",
    "    last_name_lower = col['last_name'].lower()\n",
    "    institute = ''.join(list(map(lambda word: word[0], col['institute'].lower().split())))\n",
    "    \n",
    "    if 'Universitas' in col['institute']:\n",
    "        if len(col['country'].split()) > 1:\n",
    "            country = ''.join(list(map(lambda word: word[0], col['country'].lower().split())))\n",
    "        else:\n",
    "            country = col['country'][:3].lower()\n",
    "        return \"%s%s@%s.ac.%s\"%(first_name_lower,last_name_lower,institute,country)\n",
    "        \n",
    "    return \"%s%s@%s.com\"%(first_name_lower,last_name_lower,institute)\n",
    "    \n",
    "df_participant['email'] = df_participant.apply(func, axis=1)\n",
    "df_participant['birth_date'] = pd.to_datetime(df_participant['birth_date'], format='%d %b %Y')\n",
    "\n",
    "\n",
    "df_participant['register_at'] = pd.to_datetime(df_participant['register_time'], unit='s')"
   ]
  },
  {
   "cell_type": "markdown",
   "id": "2e640091",
   "metadata": {},
   "source": [
    "# Kesimpulan\n",
    "Dengan begitu, tibalah kita di penghujung dari chapter bagian transform ini.\n",
    "\n",
    "Jika dilihat kembali, dataset Anda saat ini sudah berbeda dengan saat proses extract sebelumnya. Ada beberapa kolom tambahan yang memanfaatkan nilai kolom lain.\n",
    "\n",
    "Dataset Anda saat ini memuat kolom:\n",
    "\n",
    "1. participant_id: ID dari peserta/partisipan hackathon. Kolom ini bersifat unique sehingga antar peserta pasti memiliki ID yang berbeda\n",
    "2. first_name: nama depan peserta\n",
    "3. last_name: nama belakang peserta\n",
    "4. birth_date: tanggal lahir peserta (sudah diformat ke YYYY-MM-DD)\n",
    "5. address: alamat tempat tinggal peserta\n",
    "6. phone_number: nomor hp/telepon peserta\n",
    "7. country: negara asal peserta\n",
    "8. institute: institusi peserta saat ini, bisa berupa nama perusahaan maupun nama universitas\n",
    "9. occupation: pekerjaan peserta saat ini\n",
    "10. register_time: waktu peserta melakukan pendaftaran hackathon dalam second\n",
    "11. team_name: nama tim peserta (gabungan dari nama depan, nama belakang, negara dan institusi)\n",
    "12. postal_code: kode pos alamat peserta (diambil dari kolom alamat)\n",
    "13. city: kota peserta (diambil dari kolom alamat)\n",
    "14. github_profile: link profil github peserta (gabungan dari nama depan, dan nama belakang)\n",
    "15. email: alamat email peserta (gabungan dari nama depan, nama belakang, institusi dan negara)\n",
    "16. cleaned_phone_number: nomor hp/telepon peserta (sudah lebih sesuai dengan format nomor telepon)\n",
    "17. register_at: tanggal dan waktu peserta melakukan pendaftaran (sudah dalam format DATETIME)"
   ]
  },
  {
   "cell_type": "markdown",
   "id": "9e0b2c2f",
   "metadata": {},
   "source": [
    "# Load\n",
    "Pada bagian load ini, data yang sudah ditransformasi sedemikian rupa sehingga sesuai dengan kebutuhan tim analyst dimasukkan kembali ke database yaitu Data Warehouse (DWH). Biasanya, dilakukan pendefinisian skema database terlebih dahulu seperti:\n",
    "\n",
    "1. Nama kolom\n",
    "2. Tipe kolom\n",
    "3. Apakah primary key, unique key, index atau bukan\n",
    "4. Panjang kolomnya\n",
    "\n",
    "Karena umumnya Data Warehouse merupakan database yang terstruktur sehingga mereka memerlukan skema sebelum datanya dimasukkan.\n",
    "\n",
    "Pandas sudah menyediakan fungsi untuk memasukkan data ke database yaitu to_sql().\n",
    "\n",
    "Detail dari fungsi tersebut bisa dilihat pada dokumentasi Pandas: https://pandas.pydata.org/docs/reference/api/pandas.DataFrame.to_sql.html"
   ]
  },
  {
   "cell_type": "markdown",
   "id": "c24c59a0",
   "metadata": {},
   "source": [
    "# Quiz 1\n",
    "Selain menggunakan pd.read_csv() untuk membaca file pada Pandas. Apa sajakah fungsi yang bisa digunakan?\n",
    "\n",
    "JAWABAN\n",
    "\n",
    "**pd.read_pickle()**"
   ]
  },
  {
   "cell_type": "markdown",
   "id": "a029651b",
   "metadata": {},
   "source": [
    "# Quiz 2\n",
    "Regular Expression yang paling tepat untuk menangkap pattern com yang merupakan domain email dari string\n",
    "professional.academy@dqlab.com adalah?\n",
    "\n",
    "JAWABAN\n",
    "\n",
    "**com**"
   ]
  },
  {
   "cell_type": "markdown",
   "id": "d30f585e",
   "metadata": {},
   "source": [
    "# Quiz 3\n",
    "Kita tahu bahwa kolom participant_id pada dataset Peserta DQThon terdiri dari kumpulan huruf dan angka serta simbol strip ( - ).\n",
    "\n",
    "Jika kita hanya ingin menyisakan angkanya saja, kode program manakah dibawah ini yang tepat untuk melakukan hal itu?\n",
    "\n",
    " \n",
    "\n",
    "*Note: hasil dari transformasi ini disimpan ke kolom baru bernama participant_number)\n",
    "\n",
    "JAWABAN\n",
    "\n",
    "**df_participant['participant_number'] = df_participant['participant_id'].str.replace(r'[a-zA-Z-]', '')**"
   ]
  }
 ],
 "metadata": {
  "kernelspec": {
   "display_name": "Python 3 (ipykernel)",
   "language": "python",
   "name": "python3"
  },
  "language_info": {
   "codemirror_mode": {
    "name": "ipython",
    "version": 3
   },
   "file_extension": ".py",
   "mimetype": "text/x-python",
   "name": "python",
   "nbconvert_exporter": "python",
   "pygments_lexer": "ipython3",
   "version": "3.10.8"
  }
 },
 "nbformat": 4,
 "nbformat_minor": 5
}
